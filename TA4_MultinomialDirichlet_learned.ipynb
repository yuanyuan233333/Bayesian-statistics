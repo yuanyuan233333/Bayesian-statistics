{
  "cells": [
    {
      "cell_type": "markdown",
      "metadata": {
        "id": "view-in-github",
        "colab_type": "text"
      },
      "source": [
        "<a href=\"https://colab.research.google.com/github/yuanyuan233333/Bayesian-statistics/blob/main/TA4_MultinomialDirichlet_learned.ipynb\" target=\"_parent\"><img src=\"https://colab.research.google.com/assets/colab-badge.svg\" alt=\"Open In Colab\"/></a>"
      ]
    },
    {
      "cell_type": "markdown",
      "id": "28d58460-7d2c-47ac-8444-e9f18de8f3da",
      "metadata": {
        "id": "28d58460-7d2c-47ac-8444-e9f18de8f3da"
      },
      "source": [
        "# Topic Modelling with Multinomial - Dirichlet Model\n",
        "\n",
        "In this notebook, we see an example of Topic Modelling using the Multinomial - Dirichlet model. We recall that this model is defined as follows:\n",
        "\n",
        "Let $X_i$ be the word $i$ in the document we are analyzing, for $i = 1, \\dots, N$. The law for $X_i$ is the following:\n",
        "$$\n",
        "    \\mathbb{P}(X_i = j) = \\lambda_j \\qquad j = 1, \\dots, \\lvert V \\rvert,\n",
        "$$\n",
        "where $\\lvert V \\rvert$ is the size of the vocabulary and $j$ is a label for the word.\n",
        "\n",
        "Of course, in a document words will have repetitions. Since the order in which a word appear is not important, we can define $Y_j$ being the frequency of word $j$ in the document.\n",
        "\n",
        "## Bayesian Model\n",
        "\n",
        "\\begin{align*}\n",
        "    \\left( y_1, \\dots, y_{n} \\right) \\mid \\boldsymbol{\\lambda} &\\stackrel{\\tiny\\mbox{iid}}{\\sim} \\operatorname{Multinomial}\\left(\\boldsymbol{\\lambda}\\right); \\\\\n",
        "    \\boldsymbol{\\lambda} &\\sim \\operatorname{Dirichlet}\\left(\\boldsymbol{\\alpha}\\right).\n",
        "\\end{align*}\n",
        "\n",
        "We recall that:\n",
        "\n",
        "\\begin{align*}\n",
        "    f\\left(\\boldsymbol{y} \\mid \\boldsymbol{\\lambda}\\right) &= \\frac{n!}{y_1! \\dots y_{\\lvert V \\rvert}!} \\prod_{j=1}^{\\lvert V \\rvert} \\lambda_{j}^{y_j}, &\\qquad\\pi\\left(\\boldsymbol{\\lambda}\\right) &= \\frac{1}{B\\left(\\boldsymbol{\\alpha}\\right)} \\prod_{j = 1}^{\\lvert V \\rvert} \\lambda_{j}^{\\alpha_j - 1},\n",
        "\\end{align*}\n",
        "\n",
        "with $y_j \\in \\mathbb{N} \\cup \\{0\\}$ for all $j$, $\\sum_{j = 1}^{\\lvert V \\rvert} y_j = n$, $\\alpha_j \\geq 0$ for all $j$ and $\\sum_{j=1}^{\\lvert V \\rvert}\\alpha_j = 1$."
      ]
    },
    {
      "cell_type": "code",
      "execution_count": 1,
      "id": "6d0bbb5f",
      "metadata": {
        "colab": {
          "base_uri": "https://localhost:8080/"
        },
        "id": "6d0bbb5f",
        "outputId": "9264c074-65d9-4a12-b24f-f42194390646"
      },
      "outputs": [
        {
          "output_type": "stream",
          "name": "stdout",
          "text": [
            "Requirement already satisfied: nltk in /usr/local/lib/python3.11/dist-packages (3.9.1)\n",
            "Requirement already satisfied: click in /usr/local/lib/python3.11/dist-packages (from nltk) (8.1.8)\n",
            "Requirement already satisfied: joblib in /usr/local/lib/python3.11/dist-packages (from nltk) (1.4.2)\n",
            "Requirement already satisfied: regex>=2021.8.3 in /usr/local/lib/python3.11/dist-packages (from nltk) (2024.11.6)\n",
            "Requirement already satisfied: tqdm in /usr/local/lib/python3.11/dist-packages (from nltk) (4.67.1)\n"
          ]
        }
      ],
      "source": [
        "!pip install nltk"
      ]
    },
    {
      "cell_type": "code",
      "execution_count": 2,
      "id": "76cb57ed",
      "metadata": {
        "colab": {
          "base_uri": "https://localhost:8080/"
        },
        "id": "76cb57ed",
        "outputId": "466c2235-2cec-464c-da50-73d017addcdd"
      },
      "outputs": [
        {
          "output_type": "stream",
          "name": "stderr",
          "text": [
            "[nltk_data] Downloading package stopwords to /root/nltk_data...\n",
            "[nltk_data]   Unzipping corpora/stopwords.zip.\n",
            "[nltk_data] Downloading package punkt_tab to /root/nltk_data...\n",
            "[nltk_data]   Unzipping tokenizers/punkt_tab.zip.\n"
          ]
        }
      ],
      "source": [
        "# Import required packages\n",
        "import matplotlib.pyplot as plt\n",
        "import numpy as np\n",
        "import requests\n",
        "\n",
        "import nltk\n",
        "nltk.download('stopwords')\n",
        "nltk.download('punkt_tab')\n",
        "\n",
        "# Import required functions\n",
        "from collections import Counter\n",
        "\n",
        "from nltk import word_tokenize\n",
        "from nltk.corpus import stopwords"
      ]
    },
    {
      "cell_type": "code",
      "execution_count": 3,
      "id": "1071435a-ce43-4b9e-b8d6-44df95cff2ca",
      "metadata": {
        "colab": {
          "base_uri": "https://localhost:8080/"
        },
        "id": "1071435a-ce43-4b9e-b8d6-44df95cff2ca",
        "outputId": "8306e1f6-f31a-425e-cb01-dbe10edf1f3e"
      },
      "outputs": [
        {
          "output_type": "stream",
          "name": "stderr",
          "text": [
            "[nltk_data] Downloading package punkt_tab to /root/nltk_data...\n",
            "[nltk_data]   Package punkt_tab is already up-to-date!\n",
            "[nltk_data] Downloading package stopwords to /root/nltk_data...\n",
            "[nltk_data]   Package stopwords is already up-to-date!\n"
          ]
        },
        {
          "output_type": "execute_result",
          "data": {
            "text/plain": [
              "True"
            ]
          },
          "metadata": {},
          "execution_count": 3
        }
      ],
      "source": [
        "# Uncomment those lines if it is the first time you are running this notebook\n",
        "from nltk import download\n",
        "download('punkt_tab')\n",
        "download('stopwords') #Stop words like \"the\" and \"is\" appear frequently, but not important"
      ]
    },
    {
      "cell_type": "markdown",
      "id": "dc3d56cd-f228-4f0d-9632-e336dc31e9f7",
      "metadata": {
        "id": "dc3d56cd-f228-4f0d-9632-e336dc31e9f7"
      },
      "source": [
        "In the following chunks we simply get some data from the Wikipedia page of Roberto Baggio and build up our dataset."
      ]
    },
    {
      "cell_type": "code",
      "execution_count": 4,
      "id": "f4679812",
      "metadata": {
        "id": "f4679812"
      },
      "outputs": [],
      "source": [
        "raw = requests.get(\n",
        "    \"https://en.wikipedia.org/w/api.php?action=query&format=json&titles=Roberto_Baggio&prop=extracts&explaintext\")\n",
        "# Fetches data using Wikipedia's API.\n",
        "text = raw.json()[\"query\"][\"pages\"][\"25624\"][\"extract\"]\n",
        "# perform a query on wikipedia\n",
        "# retrieve(return back) the data in JSON format(easy to deal with)\n",
        "# 25624 is the page ID of the page title \"roberto baggio\"\n",
        "# return only plain text, excluding HTML"
      ]
    },
    {
      "cell_type": "code",
      "execution_count": 5,
      "id": "3059ca8a",
      "metadata": {
        "colab": {
          "base_uri": "https://localhost:8080/"
        },
        "id": "3059ca8a",
        "outputId": "a43991a7-7f65-4455-8b3e-907686de7e0c"
      },
      "outputs": [
        {
          "output_type": "stream",
          "name": "stderr",
          "text": [
            "[nltk_data] Downloading package punkt to /root/nltk_data...\n",
            "[nltk_data]   Unzipping tokenizers/punkt.zip.\n"
          ]
        }
      ],
      "source": [
        "nltk.download('punkt')\n",
        "tokens = word_tokenize(text) #Tokenizing(breaking) sentences into words\n",
        "tokens = [word.lower() for word in tokens if word.isalpha()]\n",
        "# converts all words to lowercase-word.lower()\n",
        "# word.isalpha- filters out non alphabetic tokens(e.g punctuations, numbers)\n",
        "\n",
        "stopw = stopwords.words(\"english\") # load the list of english stop word from NLTK\n",
        "\n",
        "tokens = list(filter(lambda x: x not in stopw, tokens)) # filter out tokens which are present in the stop words"
      ]
    },
    {
      "cell_type": "markdown",
      "id": "ab995d7a-be17-4840-adbf-9301dab77755",
      "metadata": {
        "id": "ab995d7a-be17-4840-adbf-9301dab77755"
      },
      "source": [
        "Let us print the 10 most probable words..."
      ]
    },
    {
      "cell_type": "code",
      "execution_count": 6,
      "id": "58cee62a",
      "metadata": {
        "colab": {
          "base_uri": "https://localhost:8080/"
        },
        "id": "58cee62a",
        "outputId": "c1245d6e-5c09-44e1-d4bf-0002fa88529e"
      },
      "outputs": [
        {
          "output_type": "execute_result",
          "data": {
            "text/plain": [
              "[('baggio', 373),\n",
              " ('world', 101),\n",
              " ('cup', 94),\n",
              " ('italy', 94),\n",
              " ('goals', 85),\n",
              " ('serie', 85),\n",
              " ('scored', 79),\n",
              " ('goal', 78),\n",
              " ('also', 74),\n",
              " ('player', 69)]"
            ]
          },
          "metadata": {},
          "execution_count": 6
        }
      ],
      "source": [
        "counts = Counter(tokens) # counting the frequency in the tokens\n",
        "counts.most_common(10)"
      ]
    },
    {
      "cell_type": "markdown",
      "id": "bf1a90c4-7257-4bc1-8771-97f24de6d782",
      "metadata": {
        "id": "bf1a90c4-7257-4bc1-8771-97f24de6d782"
      },
      "source": [
        "... and **always** remember to plot your data!"
      ]
    },
    {
      "cell_type": "code",
      "execution_count": 7,
      "id": "86d98071",
      "metadata": {
        "colab": {
          "base_uri": "https://localhost:8080/",
          "height": 430
        },
        "id": "86d98071",
        "outputId": "75714e07-4f91-4ef7-ad31-aba9637659f2"
      },
      "outputs": [
        {
          "output_type": "display_data",
          "data": {
            "text/plain": [
              "<Figure size 640x480 with 1 Axes>"
            ],
            "image/png": "[encoded data removed]"
          },
          "metadata": {}
        }
      ],
      "source": [
        "import seaborn as sns\n",
        "\n",
        "words_and_counts = counts.most_common()\n",
        "sns.histplot([x[1] for x in words_and_counts], bins=100)\n",
        "plt.show()\n",
        "# insight: most words occur very few times(1 or 2),\n",
        "# only a few words occur very frequently (baggio over 300)\n",
        "# the distribution is right-skewed, which is common in natural language text data"
      ]
    },
    {
      "cell_type": "code",
      "execution_count": 8,
      "id": "0ac98b66",
      "metadata": {
        "colab": {
          "base_uri": "https://localhost:8080/",
          "height": 430
        },
        "id": "0ac98b66",
        "outputId": "f98707d1-1482-4520-abd8-39a245a9835b"
      },
      "outputs": [
        {
          "output_type": "display_data",
          "data": {
            "text/plain": [
              "<Figure size 640x480 with 1 Axes>"
            ],
            "image/png": "[encoded data removed]"
          },
          "metadata": {}
        }
      ],
      "source": [
        "words_and_counts = [\n",
        "    (w, c) for (w, c) in words_and_counts if c > 5 and c < 100]\n",
        "sns.histplot([x[1] for x in words_and_counts], bins=90)\n",
        "plt.show()\n",
        "# filter the list above to include only words whose frequency 5 < c < 100"
      ]
    },
    {
      "cell_type": "code",
      "execution_count": 9,
      "id": "616003b3",
      "metadata": {
        "colab": {
          "base_uri": "https://localhost:8080/"
        },
        "id": "616003b3",
        "outputId": "9476768d-bf18-47ee-9869-3d8659df0bc2"
      },
      "outputs": [
        {
          "output_type": "execute_result",
          "data": {
            "text/plain": [
              "258"
            ]
          },
          "metadata": {},
          "execution_count": 9
        }
      ],
      "source": [
        "len(words_and_counts) # the total number of the filtered data"
      ]
    },
    {
      "cell_type": "markdown",
      "id": "fde7d644",
      "metadata": {
        "id": "fde7d644"
      },
      "source": [
        "## Bayesian analysis\n",
        "\n",
        "### Posterior Distribution\n",
        "\n",
        "Simple computation leads to:\n",
        "\n",
        "$$ \\pi\\left(\\boldsymbol{\\lambda} \\mid \\boldsymbol{y} \\right) \\sim \\operatorname{Dirichlet}\\left(\\boldsymbol{\\alpha} + \\boldsymbol{y}\\right)$$"
      ]
    },
    {
      "cell_type": "code",
      "execution_count": 10,
      "id": "1f15bb08",
      "metadata": {
        "id": "1f15bb08"
      },
      "outputs": [],
      "source": [
        "vocabulary = [x[0] for x in words_and_counts] # extracts the list of words, first element of each tuple in the matrix\n",
        "len_v = len(vocabulary) # count the total number of unique words\n",
        "n = np.array([x[1] for x in words_and_counts]) # convert the counts- second element unto numpy array\n",
        "\n",
        "# prior\n",
        "alpha = np.ones(len_v) # equal probability for all words (1,...,1)"
      ]
    },
    {
      "cell_type": "markdown",
      "id": "f4ec5096",
      "metadata": {
        "id": "f4ec5096"
      },
      "source": [
        "### Predictive Distribution\n",
        "\n",
        "compute\n",
        "\n",
        "$$ p(x_{n+1} = j \\mid x_1, \\ldots, x_n) = \\frac{\\alpha_j + n_j}{\\sum \\alpha_h + \\sum n_h}$$\n",
        "\n",
        "for every $j = 1, \\dots, \\lvert V \\rvert$"
      ]
    },
    {
      "cell_type": "code",
      "execution_count": 11,
      "id": "31cd9c36",
      "metadata": {
        "id": "31cd9c36"
      },
      "outputs": [],
      "source": [
        "pred_dist = np.zeros(len_v) # an array to store the predictive probability\n",
        "\n",
        "den = np.sum(alpha) + np.sum(n) # calculate the denominator\n",
        "\n",
        "for j in range(len_v):\n",
        "    pred_dist[j] = alpha[j] + n[j]\n",
        "\n",
        "pred_dist /= den\n",
        "\n",
        "# the result us the predictive probability for each word"
      ]
    },
    {
      "cell_type": "code",
      "execution_count": 12,
      "id": "6a9180bf",
      "metadata": {
        "colab": {
          "base_uri": "https://localhost:8080/"
        },
        "id": "6a9180bf",
        "outputId": "b13d5eb0-212b-4005-8bf8-c9096b55fc1a"
      },
      "outputs": [
        {
          "output_type": "stream",
          "name": "stdout",
          "text": [
            "1.0\n"
          ]
        }
      ],
      "source": [
        "# Check that it sums to 1, it is ok\n",
        "print(np.sum(pred_dist))\n",
        "\n",
        "# prediction, we can get the prediction probability(postieor probability) for the word which we already observed\n",
        "# in the same time we can also get the prediction for new words we did not observed, and prob is not zero"
      ]
    },
    {
      "cell_type": "code",
      "execution_count": 13,
      "id": "f52fa931",
      "metadata": {
        "colab": {
          "base_uri": "https://localhost:8080/"
        },
        "id": "f52fa931",
        "outputId": "60067359-be2d-4eb2-84e5-0654065c46e4"
      },
      "outputs": [
        {
          "output_type": "stream",
          "name": "stdout",
          "text": [
            "word: cup, prob: 0.021532184950135994\n",
            "word: italy, prob: 0.021532184950135994\n",
            "word: serie, prob: 0.019492293744333637\n",
            "word: goals, prob: 0.019492293744333637\n",
            "word: scored, prob: 0.01813236627379873\n"
          ]
        }
      ],
      "source": [
        "# Get the 5 most probable words ...\n",
        "ind = np.argpartition(pred_dist, -5)[-5:][::-1]\n",
        "# partitions the array such that the top 5 largest elements are moved to the end of the array, order of them is not guaranteed\n",
        "# [-5:]extracts the indices of the top 5 elements\n",
        "# [::-1] reverse the order of thre indices, so the most prob word comes first\n",
        "\n",
        "for i in ind:\n",
        "    print(\"word: {0}, prob: {1}\".format(vocabulary[i], pred_dist[i]))"
      ]
    },
    {
      "cell_type": "code",
      "execution_count": 14,
      "id": "d964200c",
      "metadata": {
        "colab": {
          "base_uri": "https://localhost:8080/"
        },
        "id": "d964200c",
        "outputId": "313379da-80d0-4674-fe08-64f5d5068ade"
      },
      "outputs": [
        {
          "output_type": "stream",
          "name": "stdout",
          "text": [
            "word: ac, prob: 0.001586582048957389\n",
            "word: another, prob: 0.001586582048957389\n",
            "word: particular, prob: 0.001586582048957389\n",
            "word: zico, prob: 0.001586582048957389\n",
            "word: eight, prob: 0.001586582048957389\n"
          ]
        }
      ],
      "source": [
        "# ... and the 5 leas probable words\n",
        "ind = np.argpartition(pred_dist, 5)[:5]\n",
        "for i in ind:\n",
        "    print(\"word: {0}, prob: {1}\".format(vocabulary[i], pred_dist[i]))"
      ]
    },
    {
      "cell_type": "markdown",
      "id": "c37cf19a",
      "metadata": {
        "id": "c37cf19a"
      },
      "source": [
        "### Test randomness\n",
        "\n",
        "$$\n",
        " H_0: \\theta = \\left(\\frac{1}{|V|} \\cdots \\frac{1}{|V|}\\right) \\quad vs. \\quad H_0: \\theta \\neq \\left(\\frac{1}{|V|} \\cdots \\frac{1}{|V|}\\right)\n",
        "$$\n",
        "\n",
        "Let $\\theta_0 = \\left(\\frac{1}{|V|} \\cdots \\frac{1}{|V|}\\right)$, then\n",
        "\n",
        "$$\n",
        "BF_{01} = \\frac{L(d | \\theta_0)}{\\int_{S^{|V|}} L(d | \\theta) \\pi(\\theta) \\mathrm{d}\\theta}\n",
        "$$"
      ]
    },
    {
      "cell_type": "code",
      "source": [
        "# H0: all probabilities are equal, uniform\n",
        "# H1: the probabilities are not equal\n",
        "# we use bayes factor to compare the 2 hypotheses\n",
        "# when we use diricht distribution as a prior which includes gamma function, leads to denominator close to 0\n",
        "# and we return nan"
      ],
      "metadata": {
        "id": "VOqR06CrdDcn"
      },
      "id": "VOqR06CrdDcn",
      "execution_count": 15,
      "outputs": []
    },
    {
      "cell_type": "code",
      "execution_count": 16,
      "id": "7368c7c2",
      "metadata": {
        "id": "7368c7c2"
      },
      "outputs": [],
      "source": [
        "from scipy.special import gamma\n",
        "\n",
        "def multi_beta_fn(alpha):\n",
        "    return np.prod(gamma(alpha)) / gamma(np.sum(alpha))"
      ]
    },
    {
      "cell_type": "code",
      "execution_count": 17,
      "id": "f3e75132",
      "metadata": {
        "colab": {
          "base_uri": "https://localhost:8080/"
        },
        "id": "f3e75132",
        "outputId": "0283ee03-ddda-4929-e9b2-6d7100744408"
      },
      "outputs": [
        {
          "output_type": "stream",
          "name": "stdout",
          "text": [
            "nan\n"
          ]
        },
        {
          "output_type": "stream",
          "name": "stderr",
          "text": [
            "/usr/local/lib/python3.11/dist-packages/numpy/core/fromnumeric.py:88: RuntimeWarning: overflow encountered in reduce\n",
            "  return ufunc.reduce(obj, axis, dtype, out, **passkwargs)\n",
            "<ipython-input-16-bc73e37e7326>:4: RuntimeWarning: invalid value encountered in scalar divide\n",
            "  return np.prod(gamma(alpha)) / gamma(np.sum(alpha))\n"
          ]
        }
      ],
      "source": [
        "theta0 = np.ones(len_v) / len_v\n",
        "\n",
        "num = np.prod(theta0 ** n)\n",
        "den = multi_beta_fn(alpha + n) / multi_beta_fn(alpha)\n",
        "\n",
        "print(np.log10(num/den))"
      ]
    },
    {
      "cell_type": "code",
      "execution_count": 18,
      "id": "559ce19f",
      "metadata": {
        "colab": {
          "base_uri": "https://localhost:8080/"
        },
        "id": "559ce19f",
        "outputId": "d09e3679-2b9e-4945-c777-4f621caf3861"
      },
      "outputs": [
        {
          "output_type": "stream",
          "name": "stdout",
          "text": [
            "0.0\n",
            "nan\n"
          ]
        }
      ],
      "source": [
        "print(num)\n",
        "print(den)"
      ]
    },
    {
      "cell_type": "markdown",
      "id": "a334d1dd",
      "metadata": {
        "id": "a334d1dd"
      },
      "source": [
        "Python warns us that overflow occurred. This always happens when we try to compute products of terms involving factorials.\n",
        "\n",
        "*What to do?* **Move computations to log scale!** In this case:"
      ]
    },
    {
      "cell_type": "code",
      "execution_count": 19,
      "id": "d29f2663",
      "metadata": {
        "colab": {
          "base_uri": "https://localhost:8080/"
        },
        "id": "d29f2663",
        "outputId": "312fd733-60db-4544-86e0-b526ad884323"
      },
      "outputs": [
        {
          "output_type": "stream",
          "name": "stdout",
          "text": [
            "-435.5599428922196\n"
          ]
        }
      ],
      "source": [
        "from scipy.special import loggamma\n",
        "\n",
        "def log10gamma(x):\n",
        "    return loggamma(x) / np.log(10.0)\n",
        "\n",
        "def log_multi_beta_fn(alpha):\n",
        "    return np.sum(log10gamma(alpha)) - log10gamma(np.sum(alpha))\n",
        "\n",
        "log_num = np.sum(n * np.log10(theta0))\n",
        "log_den = log_multi_beta_fn(alpha + n) - log_multi_beta_fn(alpha)\n",
        "\n",
        "print(log_num - log_den)"
      ]
    }
  ],
  "metadata": {
    "celltoolbar": "Slideshow",
    "kernelspec": {
      "display_name": "Python 3 (ipykernel)",
      "language": "python",
      "name": "python3"
    },
    "language_info": {
      "codemirror_mode": {
        "name": "ipython",
        "version": 3
      },
      "file_extension": ".py",
      "mimetype": "text/x-python",
      "name": "python",
      "nbconvert_exporter": "python",
      "pygments_lexer": "ipython3",
      "version": "3.11.4"
    },
    "colab": {
      "provenance": [],
      "include_colab_link": true
    }
  },
  "nbformat": 4,
  "nbformat_minor": 5
}